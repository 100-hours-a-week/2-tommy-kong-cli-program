{
  "nbformat": 4,
  "nbformat_minor": 0,
  "metadata": {
    "colab": {
      "provenance": []
    },
    "kernelspec": {
      "name": "python3",
      "display_name": "Python 3"
    },
    "language_info": {
      "name": "python"
    }
  },
  "cells": [
    {
      "cell_type": "code",
      "execution_count": null,
      "metadata": {
        "id": "mYeOWIOB6ulk"
      },
      "outputs": [],
      "source": [
        "import os\n",
        "import json\n",
        "import random"
      ]
    },
    {
      "cell_type": "code",
      "source": [
        "# 무신사 카테고리\n",
        "CLOTHING_CATEGORIES = {\n",
        "    \"cold\": {\n",
        "        \"outer\": [\n",
        "            (\"002012\", \"숏패딩/숏헤비 아우터\"),\n",
        "            (\"002024\", \"겨울 더블 코트\"),\n",
        "            (\"002007\", \"겨울 싱글 코트\"),\n",
        "            (\"002013\", \"롱패딩/롱헤비 아우터\"),\n",
        "            (\"002023\", \"플리스/뽀글이\"),\n",
        "            (\"002025\", \"무스탕/퍼\")\n",
        "        ],\n",
        "        \"top\": [\n",
        "            (\"001006\", \"니트/스웨터\"),\n",
        "            (\"001004\", \"후드 티셔츠\")\n",
        "        ],\n",
        "        \"bottom\": [\n",
        "            (\"003002\", \"데님 팬츠\"),\n",
        "            (\"003004\", \"트레이닝/조거 팬츠\"),\n",
        "            (\"003005\", \"레깅스\")\n",
        "        ]\n",
        "    },\n",
        "    \"cool\": {\n",
        "        \"outer\": [\n",
        "            (\"002023\", \"플리스/뽀글이\"),\n",
        "            (\"002007\", \"겨울 싱글 코트\"),\n",
        "            (\"002001\", \"블루종/MA-1\"),\n",
        "            (\"002003\", \"슈트/블레이저 재킷\"),\n",
        "            (\"002002\", \"레더/라이더스 재킷\"),\n",
        "            (\"002017\", \"트러커 재킷\")\n",
        "        ],\n",
        "        \"top\": [\n",
        "            (\"001005\", \"맨투맨/스웨트셔츠\"),\n",
        "            (\"001002\", \"셔츠/블라우스\"),\n",
        "            (\"001006\", \"니트/스웨터\")\n",
        "        ],\n",
        "        \"bottom\": [\n",
        "            (\"003002\", \"데님 팬츠\"),\n",
        "            (\"003007\", \"코튼 팬츠\")\n",
        "        ]\n",
        "    },\n",
        "    \"mild\": {\n",
        "        \"outer\": [\n",
        "            (\"002017\", \"트러커 재킷\"),\n",
        "            (\"002002\", \"레더/라이더스 재킷\"),\n",
        "            (\"002003\", \"슈트/블레이저 재킷\"),\n",
        "            (\"002019\", \"아노락 재킷\"),\n",
        "            (\"002006\", \"나일론/코치  재킷\")\n",
        "        ],\n",
        "        \"top\": [\n",
        "            (\"001005\", \"맨투맨/스웨트셔츠\"),\n",
        "            (\"001002\", \"셔츠/블라우스\"),\n",
        "            (\"001003\", \"피케/카라 티셔츠\"),\n",
        "            (\"001010\", \"긴소매 티셔츠\")\n",
        "        ],\n",
        "        \"bottom\": [\n",
        "            (\"003007\", \"코튼 팬츠\"),\n",
        "            (\"003010\", \"점프 슈트/오버올\")\n",
        "        ]\n",
        "    },\n",
        "    \"hot\": {\n",
        "        \"outer\": [],\n",
        "        \"top\": [\n",
        "            (\"001001\", \"반소매 티셔츠\"),\n",
        "            (\"001011\", \"민소매 티셔츠\"),\n",
        "            (\"001003\", \"피케/카라 티셔츠\")\n",
        "        ],\n",
        "        \"bottom\": [\n",
        "            (\"003009\", \"숏 팬츠\"),\n",
        "            (\"003005\", \"레깅스\")\n",
        "        ]\n",
        "    }\n",
        "}"
      ],
      "metadata": {
        "id": "QmQ8MeS46xoK"
      },
      "execution_count": null,
      "outputs": []
    },
    {
      "cell_type": "code",
      "source": [
        "# 계절\n",
        "SEASONAL_COLOR_COMBINATIONS = {\n",
        "    \"봄\": {\n",
        "        \"그레이 베이스\": [\"그레이 톤온톤\", \"그레이 + 블루\", \"그레이 + 핑크\"],\n",
        "        \"브라운 베이스\": [\"브라운 톤온톤\", \"브라운 + 민트\", \"브라운 + 블루\"],\n",
        "        \"블루 베이스\": [\"블루 톤온톤\", \"블루 + 화이트\", \"블루 + 비비드 컬러\"],\n",
        "        \"베이지 베이스\": [\"베이지 + 크림\", \"베이지 + 레몬\", \"베이지 + 핑크\"],\n",
        "        \"네이비 베이스\": [\"네이비 + 비비드 컬러\", \"네이비 + 크림\", \"네이비 + 민트\"],\n",
        "        \"올리브 베이스\": [\"올리브 + 크림\", \"올리브 + 브라운\", \"올리브 + 민트\"]\n",
        "    },\n",
        "    \"여름\": {\n",
        "        \"브라운 베이스\": [\"브라운 + 화이트\", \"브라운 톤온톤\", \"브라운 + 블루\"],\n",
        "        \"블루 베이스\": [\"블루 + 화이트\", \"블루 톤온톤\", \"블루 + 베이지\"],\n",
        "        \"그레이 베이스\": [\"그레이 + 화이트\", \"그레이 톤온톤\", \"그레이 + 테라코타\"],\n",
        "        \"올리브 베이스\": [\"올리브 + 화이트\", \"올리브 + 브라운\", \"올리브 톤온톤\"],\n",
        "        \"파스텔 베이스\": [\"파스텔 블루 + 화이트\", \"파스텔 핑크 + 브라운\"]\n",
        "    },\n",
        "    \"가을,겨울\": {\n",
        "        \"그레이 베이스\": [\"그레이 + 네이비\", \"그레이 톤온톤\", \"그레이 + 흑청\"],\n",
        "        \"베이지 베이스\": [\"베이지 + 크림\", \"베이지 + 브라운\", \"베이지 + 네이비\"],\n",
        "        \"네이비 베이스\": [\"네이비 톤온톤\", \"네이비 + 생지 데님\", \"네이비 + 올리브\"],\n",
        "        \"화이트 베이스\": [\"화이트 + 크림\", \"화이트 + 라벤더\"],\n",
        "        \"올리브 베이스\": [\"올리브 + 크림\", \"올리브 + 브라운\", \"올리브 톤온톤\"]\n",
        "    }\n",
        "}"
      ],
      "metadata": {
        "id": "4nb1x_Zh61fo"
      },
      "execution_count": null,
      "outputs": []
    },
    {
      "cell_type": "code",
      "source": [
        "PREVIOUS_CLOTHES_FILE = \"previous_clothes.txt\""
      ],
      "metadata": {
        "id": "-bPeQSF466xi"
      },
      "execution_count": null,
      "outputs": []
    },
    {
      "cell_type": "code",
      "source": [
        "def load_previous_clothes():\n",
        "  \"\"\"\n",
        "  어제 입은 옷 불러오는 함수\n",
        "  \"\"\"\n",
        "  if os.path.exists(PREVIOUS_CLOTHES_FILE):\n",
        "      with open(PREVIOUS_CLOTHES_FILE, \"r\") as file:\n",
        "          clothes = file.read().strip().split(\",\")\n",
        "          return clothes if clothes != [\"\"] else []  # 빈 파일 처리\n",
        "  return []\n",
        "\n",
        "def save_previous_clothes(clothes):\n",
        "  \"\"\"\n",
        "  어제 입었던 옷을 저장하는 함수\n",
        "  \"\"\"\n",
        "  with open(PREVIOUS_CLOTHES_FILE, \"w\") as file:\n",
        "      file.write(\",\".join(clothes))"
      ],
      "metadata": {
        "id": "EyBKxIXd63w6"
      },
      "execution_count": null,
      "outputs": []
    },
    {
      "cell_type": "code",
      "source": [
        "def get_all_clothes():\n",
        "  \"\"\"\n",
        "  모든 옷 아이템 리스트 생성하는 함수\n",
        "  \"\"\"\n",
        "  all_clothes = []\n",
        "  for weather in CLOTHING_CATEGORIES.values():\n",
        "      for category_items in weather.values():\n",
        "          all_clothes.extend(item[1] for item in category_items)\n",
        "  return all_clothes"
      ],
      "metadata": {
        "id": "HSrYYRLP7IsZ"
      },
      "execution_count": null,
      "outputs": []
    },
    {
      "cell_type": "code",
      "source": [
        "import requests\n",
        "import json\n",
        "\n",
        "def fetch_weather(city, api_key, lang='kr', units='metric'):\n",
        "    \"\"\"\n",
        "    동기적으로 날씨 정보를 가져오는 함수\n",
        "    \"\"\"\n",
        "    api_url = f\"https://api.openweathermap.org/data/2.5/weather?q={city}&APPID={api_key}&lang={lang}&units={units}\"\n",
        "    response = requests.get(api_url)\n",
        "    response.raise_for_status()\n",
        "    return response.text\n",
        "\n",
        "def forecast(city):\n",
        "    \"\"\"\n",
        "    동기적으로 날씨 예보를 반환하는 함수\n",
        "    \"\"\"\n",
        "    api_key = \"6f99cab6ab003735f909191f543f99b4\" #api 키\n",
        "    response_text = fetch_weather(city, api_key)\n",
        "    result = json.loads(response_text)\n",
        "\n",
        "    sky = result['weather'][0]['description']\n",
        "    temp = result['main']['temp']\n",
        "    return sky, temp"
      ],
      "metadata": {
        "id": "8vvB2saN7U6p"
      },
      "execution_count": null,
      "outputs": []
    },
    {
      "cell_type": "code",
      "source": [
        "def convert_temperature(temp_celsius):\n",
        "  \"\"\"\n",
        "  온도를 섭씨에서 화씨로 변환하는 함수\n",
        "  \"\"\"\n",
        "  if temp_celsius < 0:\n",
        "      return f\"영하 -{int(abs(temp_celsius))}(C)\"\n",
        "  else:\n",
        "      return f\"{int(temp_celsius)}(C)\""
      ],
      "metadata": {
        "id": "zpBgo__r7byF"
      },
      "execution_count": null,
      "outputs": []
    },
    {
      "cell_type": "code",
      "source": [
        "def get_clothing_by_weather(temp):\n",
        "  \"\"\"\n",
        "  날씨에 맞는 옷을 추천하는 함수\n",
        "  \"\"\"\n",
        "  if temp < 5:\n",
        "      return CLOTHING_CATEGORIES[\"cold\"]\n",
        "  elif 5 <= temp < 15:\n",
        "      return CLOTHING_CATEGORIES[\"cool\"]\n",
        "  elif 15 <= temp < 25:\n",
        "      return CLOTHING_CATEGORIES[\"mild\"]\n",
        "  else:\n",
        "      return CLOTHING_CATEGORIES[\"hot\"] # 날씨는 임의로 설정"
      ],
      "metadata": {
        "id": "SiFBX0gw7lz6"
      },
      "execution_count": null,
      "outputs": []
    },
    {
      "cell_type": "code",
      "source": [
        "def print_random_recommendation(recommendations, previous_clothes):\n",
        "    \"\"\"\n",
        "    랜덤으로 옷을 추천하는 함수 (전날 입었던 옷만 제외)\n",
        "    \"\"\"\n",
        "    base_url = \"https://www.musinsa.com/category/{}\" # 무신사 사이트를 통해 추천 아이템의 상품을 추천\n",
        "\n",
        "    # 이전에 입었던 옷을 제외한 추천 목록 필터링 (전날 입었던 옷만 제외)\n",
        "    filtered_recommendations = {\n",
        "        category: [item for item in items if item[1] not in previous_clothes]\n",
        "        for category, items in recommendations.items()\n",
        "    }\n",
        "\n",
        "    # 각 카테고리에서 하나씩 무작위로 선택\n",
        "    selected_items = {}\n",
        "    for category in [\"outer\", \"top\", \"bottom\"]:\n",
        "        if category in filtered_recommendations and filtered_recommendations[category]:\n",
        "            selected_items[category] = random.choice(filtered_recommendations[category])\n",
        "        else:\n",
        "            selected_items[category] = None  # 해당 카테고리에 추천 가능한 아이템이 없을 경우\n",
        "\n",
        "    # 추천 결과 출력\n",
        "    print(\"\\n오늘의 추천 옷:\")\n",
        "    for category, item in selected_items.items():\n",
        "        if item:\n",
        "            url = base_url.format(item[0])\n",
        "            print(f\"- {category.capitalize()}: [{item[0]}] {item[1]} - {url}\")\n",
        "        else:\n",
        "            print(f\"- {category.capitalize()}: 추천 가능한 아이템이 없습니다.\")\n"
      ],
      "metadata": {
        "id": "xfzdA2U773S8"
      },
      "execution_count": null,
      "outputs": []
    },
    {
      "cell_type": "code",
      "source": [
        "def print_random_color_recommendation(color_combinations):\n",
        "  \"\"\"\n",
        "  랜덤으로 컬러 조합을 추천하는 함수\n",
        "  \"\"\"\n",
        "  color = random.choice(list(color_combinations.keys()))\n",
        "  combo = random.choice(color_combinations[color])\n",
        "  print(\"\\n추천 컬러 조합:\")\n",
        "  print(f\"- {color}: {combo}\")"
      ],
      "metadata": {
        "id": "_u61509p7_dI"
      },
      "execution_count": null,
      "outputs": []
    },
    {
      "cell_type": "code",
      "source": [
        "# 전체 옷 목록 가져오기\n",
        "all_clothes = get_all_clothes()\n",
        "\n",
        "# 어제 입었던 옷 불러오기 또는 새로 입력받기\n",
        "previous_clothes = load_previous_clothes()\n",
        "if previous_clothes:\n",
        "    print(\"\\n이전에 저장된 어제 입은 옷:\")\n",
        "    print(\", \".join(previous_clothes))\n",
        "    use_previous = input(\"저장된 어제 옷 정보를 사용하시겠습니까? (y/n): \").strip().lower()\n",
        "    if use_previous != 'y':\n",
        "        previous_clothes = []\n",
        "\n",
        "if not previous_clothes:  # 저장된 옷 정보를 사용하지 않거나 새로 입력하는 경우\n",
        "    print(\"\\n전체 옷 목록:\")\n",
        "    for idx, cloth in enumerate(all_clothes, start=1):\n",
        "        print(f\"{idx}. {cloth}\")\n",
        "\n",
        "    while True:\n",
        "        try:\n",
        "            selected = input(\"\\n어제 입은 옷의 번호를 쉼표로 구분하여 입력하세요 (예: 1,3,5): \")\n",
        "            selected_indices = [int(x.strip()) for x in selected.split(\",\") if x.strip().isdigit()]\n",
        "            if all(1 <= idx <= len(all_clothes) for idx in selected_indices):\n",
        "                previous_clothes = [all_clothes[idx - 1] for idx in selected_indices]\n",
        "                break\n",
        "            else:\n",
        "                print(\"목록에 없는 번호가 포함되어 있습니다. 다시 입력해주세요.\")\n",
        "        except ValueError:\n",
        "            print(\"유효한 숫자를 입력하세요.\")\n",
        "\n",
        "    save_previous_clothes(previous_clothes)  # 새로운 어제 옷 저장\n",
        "\n",
        "print(f\"\\n어제 입은 옷: {', '.join(previous_clothes)}\")\n",
        "\n",
        "# 한국어 도시 이름과 영어 도시 이름 매핑\n",
        "city_mapping = {\n",
        "    \"서울\": \"Seoul\",\n",
        "    \"부산\": \"Busan\",\n",
        "    \"대구\": \"Daegu\",\n",
        "    \"인천\": \"Incheon\",\n",
        "    \"광주\": \"Gwangju\",\n",
        "    \"대전\": \"Daejeon\",\n",
        "    \"울산\": \"Ulsan\",\n",
        "    \"세종\": \"Sejong\",\n",
        "    \"경기도\": \"Gyeonggi-do\",\n",
        "    \"강원도\": \"Gangwon-do\",\n",
        "    \"충청북도\": \"Chungcheongbuk-do\",\n",
        "    \"충청남도\": \"Chungcheongnam-do\",\n",
        "    \"전라북도\": \"Jeollabuk-do\",\n",
        "    \"전라남도\": \"Jeollanam-do\",\n",
        "    \"경상북도\": \"Gyeongsangbuk-do\",\n",
        "    \"경상남도\": \"Gyeongsangnam-do\",\n",
        "    \"제주도\": \"Jeju-do\"\n",
        "}\n",
        "\n",
        "# 사용자 입력\n",
        "city_kor = input(\"\\n날씨를 확인할 대한민국의 시/도를 입력하세요: \").strip()\n",
        "\n",
        "# 한국어를 영어로 변환\n",
        "city = city_mapping.get(city_kor, None)\n",
        "if not city:\n",
        "    print(\"잘못된 도시 이름입니다. 다시 입력해주세요.\")\n",
        "else:\n",
        "    pass\n",
        "\n",
        "def fetch_weather_and_process():\n",
        "    sky, temp = forecast(city)  # api를 통해 날씨 데이터를 가져오기\n",
        "    print(f\"\\n{city}의 현재 날씨: {sky}, 온도: {convert_temperature(temp)}\")\n",
        "\n",
        "    # 사용자 입력으로 계절 입력\n",
        "    season = input(\"계절을 입력하세요 (봄, 여름, 가을, 겨울): \").strip().lower()\n",
        "\n",
        "    # 가을 또는 겨울을 입력한 경우 \"가을,겨울\"로 인식\n",
        "    if season in [\"가을\", \"겨울\"]:\n",
        "        season = \"가을,겨울\"\n",
        "    elif season not in SEASONAL_COLOR_COMBINATIONS:\n",
        "        print(\"잘못된 계절 입력입니다.\")\n",
        "        return\n",
        "\n",
        "    # 날씨에 따른 옷 추천 목록 생성\n",
        "    recommendations = get_clothing_by_weather(temp)\n",
        "\n",
        "    # 계절에 따른 컬러 조합 추천\n",
        "    color_recommendations = SEASONAL_COLOR_COMBINATIONS[season]\n",
        "\n",
        "    # 결과 출력\n",
        "    print_random_recommendation(recommendations, previous_clothes)\n",
        "    print_random_color_recommendation(color_recommendations)\n",
        "\n",
        "# 실행\n",
        "fetch_weather_and_process()"
      ],
      "metadata": {
        "colab": {
          "base_uri": "https://localhost:8080/"
        },
        "id": "YudvOY9d8HSh",
        "outputId": "c29667aa-336a-4163-a639-970ee127dabf"
      },
      "execution_count": null,
      "outputs": [
        {
          "output_type": "stream",
          "name": "stdout",
          "text": [
            "\n",
            "이전에 저장된 어제 입은 옷:\n",
            "숏패딩/숏헤비 아우터, 롱패딩/롱헤비 아우터\n",
            "저장된 어제 옷 정보를 사용하시겠습니까? (y/n): y\n",
            "\n",
            "어제 입은 옷: 숏패딩/숏헤비 아우터, 롱패딩/롱헤비 아우터\n",
            "\n",
            "날씨를 확인할 대한민국의 시/도를 입력하세요: 서울\n",
            "\n",
            "Seoul의 현재 날씨: 맑음, 온도: 4(C)\n",
            "계절을 입력하세요 (봄, 여름, 가을, 겨울): 겨울\n",
            "\n",
            "오늘의 추천 옷:\n",
            "- Outer: [002024] 겨울 더블 코트 - https://www.musinsa.com/category/002024\n",
            "- Top: [001006] 니트/스웨터 - https://www.musinsa.com/category/001006\n",
            "- Bottom: [003002] 데님 팬츠 - https://www.musinsa.com/category/003002\n",
            "\n",
            "추천 컬러 조합:\n",
            "- 베이지 베이스: 베이지 + 브라운\n"
          ]
        }
      ]
    },
    {
      "cell_type": "code",
      "source": [],
      "metadata": {
        "id": "fPvD_F0z8bfC"
      },
      "execution_count": null,
      "outputs": []
    }
  ]
}